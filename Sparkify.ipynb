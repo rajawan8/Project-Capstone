{
 "cells": [
  {
   "cell_type": "markdown",
   "metadata": {},
   "source": [
    "# Sparkify Project Workspace\n",
    "This workspace contains a tiny subset (128MB) of the full dataset available (12GB). Feel free to use this workspace to build your project, or to explore a smaller subset with Spark before deploying your cluster on the cloud. Instructions for setting up your Spark cluster is included in the last lesson of the Extracurricular Spark Course content.\n",
    "\n",
    "You can follow the steps below to guide your data analysis and model building portion of this project."
   ]
  },
  {
   "cell_type": "code",
   "execution_count": 1,
   "metadata": {},
   "outputs": [],
   "source": [
    "# import libraries\n",
    "\n",
    "import pandas as pd\n",
    "import numpy as np\n",
    "import matplotlib.pyplot as plt\n",
    "import seaborn as sns\n",
    "import datetime\n",
    "import re\n",
    "%matplotlib inline\n",
    "\n",
    "# Importing libraries for pyspark\n",
    "from pyspark.ml import pipeline\n",
    "from pyspark.ml.evaluation import MulticlassClassificationEvaluator\n",
    "from pyspark.ml.regression import LinearRegression\n",
    "from pyspark.ml.classification import LinearSVC, NaiveBayes,RandomForestClassifier, DecisionTreeClassifier, GBTClassifier\n",
    "from pyspark.ml.tuning import CrossValidator, ParamGridBuilder\n",
    "from pyspark.ml.feature import CountVectorizer, IDF, StopWordsRemover, StringIndexer, Normalizer, RegexTokenizer, StandardScaler, VectorAssembler, PCA\n",
    "from pyspark.sql.types import IntegerType\n",
    "from pyspark.sql.functions import avg, explode, concat, lit, min, max, split, udf, isnull, col, desc\n",
    "from pyspark.sql import SparkSession, Window\n",
    "from pyspark.sql.functions import sum as Fsum\n",
    "from pyspark.sql.functions import rank \n",
    "from pyspark.sql.functions import isnan, count, when, col, desc, udf, col \n",
    "from pyspark.sql.functions import sort_array, asc, avg\n",
    "from pyspark.sql.functions import min as Fmin\n",
    "from pyspark.sql.functions import max as Fmax\n",
    "from pyspark.sql.functions import stddev as Fstddev\n",
    "from pyspark.ml.feature import OneHotEncoderEstimator, StringIndexer, VectorAssembler\n",
    "\n",
    "\n",
    "\n",
    "# Using Skicit-learn to split data into training and testing sets\n",
    "from sklearn.model_selection import train_test_split# Split the data into training and testing sets\n"
   ]
  },
  {
   "cell_type": "code",
   "execution_count": 2,
   "metadata": {},
   "outputs": [],
   "source": [
    "# create a Spark session\n",
    "spark = SparkSession \\\n",
    "    .builder \\\n",
    "    .appName(\"Sparkify Project\") \\\n",
    "    .getOrCreate()\n"
   ]
  },
  {
   "cell_type": "markdown",
   "metadata": {},
   "source": [
    "# Load and Clean Dataset\n",
    "In this workspace, the mini-dataset file is `mini_sparkify_event_data.json`. Load and clean the dataset, checking for invalid or missing data - for example, records without userids or sessionids. "
   ]
  },
  {
   "cell_type": "code",
   "execution_count": 3,
   "metadata": {},
   "outputs": [],
   "source": [
    "mysparkify_data = 'mini_sparkify_event_data.json'\n",
    "df = spark.read.json(mysparkify_data)"
   ]
  },
  {
   "cell_type": "code",
   "execution_count": 4,
   "metadata": {},
   "outputs": [
    {
     "name": "stdout",
     "output_type": "stream",
     "text": [
      "+----------------+---------+---------+------+-------------+--------+---------+-----+--------------------+------+--------+-------------+---------+--------------------+------+-------------+--------------------+------+\n",
      "|          artist|     auth|firstName|gender|itemInSession|lastName|   length|level|            location|method|    page| registration|sessionId|                song|status|           ts|           userAgent|userId|\n",
      "+----------------+---------+---------+------+-------------+--------+---------+-----+--------------------+------+--------+-------------+---------+--------------------+------+-------------+--------------------+------+\n",
      "|  Martha Tilston|Logged In|    Colin|     M|           50| Freeman|277.89016| paid|     Bakersfield, CA|   PUT|NextSong|1538173362000|       29|           Rockpools|   200|1538352117000|Mozilla/5.0 (Wind...|    30|\n",
      "|Five Iron Frenzy|Logged In|    Micah|     M|           79|    Long|236.09424| free|Boston-Cambridge-...|   PUT|NextSong|1538331630000|        8|              Canada|   200|1538352180000|\"Mozilla/5.0 (Win...|     9|\n",
      "|    Adam Lambert|Logged In|    Colin|     M|           51| Freeman| 282.8273| paid|     Bakersfield, CA|   PUT|NextSong|1538173362000|       29|   Time For Miracles|   200|1538352394000|Mozilla/5.0 (Wind...|    30|\n",
      "|          Enigma|Logged In|    Micah|     M|           80|    Long|262.71302| free|Boston-Cambridge-...|   PUT|NextSong|1538331630000|        8|Knocking On Forbi...|   200|1538352416000|\"Mozilla/5.0 (Win...|     9|\n",
      "|       Daft Punk|Logged In|    Colin|     M|           52| Freeman|223.60771| paid|     Bakersfield, CA|   PUT|NextSong|1538173362000|       29|Harder Better Fas...|   200|1538352676000|Mozilla/5.0 (Wind...|    30|\n",
      "+----------------+---------+---------+------+-------------+--------+---------+-----+--------------------+------+--------+-------------+---------+--------------------+------+-------------+--------------------+------+\n",
      "only showing top 5 rows\n",
      "\n"
     ]
    }
   ],
   "source": [
    "### View first 5 observations\n",
    "df.show(5)"
   ]
  },
  {
   "cell_type": "markdown",
   "metadata": {},
   "source": [
    "# Exploratory Data Analysis\n",
    "When you're working with the full dataset, perform EDA by loading a small subset of the data and doing basic manipulations within Spark. In this workspace, you are already provided a small subset of data you can explore.\n",
    "\n",
    "### Define Churn\n",
    "\n",
    "Once you've done some preliminary analysis, create a column `Churn` to use as the label for your model. I suggest using the `Cancellation Confirmation` events to define your churn, which happen for both paid and free users. As a bonus task, you can also look into the `Downgrade` events.\n",
    "\n",
    "### Explore Data\n",
    "Once you've defined churn, perform some exploratory data analysis to observe the behavior for users who stayed vs users who churned. You can start by exploring aggregates on these two groups of users, observing how much of a specific action they experienced per a certain time unit or number of songs played."
   ]
  },
  {
   "cell_type": "code",
   "execution_count": 5,
   "metadata": {},
   "outputs": [
    {
     "name": "stdout",
     "output_type": "stream",
     "text": [
      "The number of rows in the dataframe is 286500\n",
      "The number of columns in the dataframe is 18\n"
     ]
    }
   ],
   "source": [
    "### Get the number of rows and columns\n",
    "print(\"The number of rows in the dataframe is {}\".format(df.count()))\n",
    "print(\"The number of columns in the dataframe is {}\".format(len(df.columns)))"
   ]
  },
  {
   "cell_type": "code",
   "execution_count": 6,
   "metadata": {},
   "outputs": [],
   "source": [
    "# Drop observations with missing user id or session id\n",
    "df = df.dropna(how = 'any', subset = ['userId', 'sessionId'])"
   ]
  },
  {
   "cell_type": "code",
   "execution_count": 7,
   "metadata": {},
   "outputs": [
    {
     "data": {
      "text/plain": [
       "278154"
      ]
     },
     "execution_count": 7,
     "metadata": {},
     "output_type": "execute_result"
    }
   ],
   "source": [
    "# Drop any observations that has an empty string in userId\n",
    "df = df[df.userId != \"\"]\n",
    "df.count()"
   ]
  },
  {
   "cell_type": "code",
   "execution_count": 8,
   "metadata": {},
   "outputs": [
    {
     "name": "stdout",
     "output_type": "stream",
     "text": [
      "+------+\n",
      "|userId|\n",
      "+------+\n",
      "|    10|\n",
      "|   100|\n",
      "|100001|\n",
      "|100002|\n",
      "|100003|\n",
      "|100004|\n",
      "|100005|\n",
      "|100006|\n",
      "|100007|\n",
      "|100008|\n",
      "|100009|\n",
      "|100010|\n",
      "|100011|\n",
      "|100012|\n",
      "|100013|\n",
      "|100014|\n",
      "|100015|\n",
      "|100016|\n",
      "|100017|\n",
      "|100018|\n",
      "|100019|\n",
      "|100021|\n",
      "|100022|\n",
      "|100023|\n",
      "|100024|\n",
      "+------+\n",
      "only showing top 25 rows\n",
      "\n"
     ]
    }
   ],
   "source": [
    "# Showing the first 25 values for 'userid'\n",
    "df.select('userId').dropDuplicates().sort('userId').show(25)"
   ]
  },
  {
   "cell_type": "code",
   "execution_count": 9,
   "metadata": {},
   "outputs": [
    {
     "name": "stdout",
     "output_type": "stream",
     "text": [
      "+-------+------------------+---------+---------+------+------------------+--------+-----------------+------+-----------------+------+-------+--------------------+------------------+--------------------+------------------+--------------------+--------------------+-----------------+\n",
      "|summary|            artist|     auth|firstName|gender|     itemInSession|lastName|           length| level|         location|method|   page|        registration|         sessionId|                song|            status|                  ts|           userAgent|           userId|\n",
      "+-------+------------------+---------+---------+------+------------------+--------+-----------------+------+-----------------+------+-------+--------------------+------------------+--------------------+------------------+--------------------+--------------------+-----------------+\n",
      "|  count|            228108|   278154|   278154|278154|            278154|  278154|           228108|278154|           278154|278154| 278154|              278154|            278154|              228108|            278154|              278154|              278154|           278154|\n",
      "|   mean| 551.0852017937219|     null|     null|  null|114.89918174824018|    null|249.1171819778458|  null|             null|  null|   null|1.535358834084427...|1042.5616241362698|            Infinity|209.10321620397335|1.540958915431871...|                null|59682.02278593872|\n",
      "| stddev|1217.7693079161374|     null|     null|  null|  129.851729399489|    null|99.23517921058361|  null|             null|  null|   null| 3.291321616327586E9| 726.5010362219813|                 NaN|30.151388851328214|1.5068287123306298E9|                null|109091.9499991047|\n",
      "|    min|               !!!|Cancelled| Adelaida|     F|                 0|   Adams|          0.78322|  free|       Albany, OR|   GET|  About|       1521380675000|                 1|\u001c",
      "ÃÂg ÃÂtti Gr...|               200|       1538352117000|\"Mozilla/5.0 (Mac...|               10|\n",
      "|    max| ÃÂlafur Arnalds|Logged In|   Zyonna|     M|              1321|  Wright|       3024.66567|  paid|Winston-Salem, NC|   PUT|Upgrade|       1543247354000|              2474|ÃÂau hafa slopp...|               404|       1543799476000|Mozilla/5.0 (comp...|               99|\n",
      "+-------+------------------+---------+---------+------+------------------+--------+-----------------+------+-----------------+------+-------+--------------------+------------------+--------------------+------------------+--------------------+--------------------+-----------------+\n",
      "\n"
     ]
    }
   ],
   "source": [
    "df.describe().show()"
   ]
  },
  {
   "cell_type": "code",
   "execution_count": 10,
   "metadata": {},
   "outputs": [
    {
     "data": {
      "text/html": [
       "<div>\n",
       "<style scoped>\n",
       "    .dataframe tbody tr th:only-of-type {\n",
       "        vertical-align: middle;\n",
       "    }\n",
       "\n",
       "    .dataframe tbody tr th {\n",
       "        vertical-align: top;\n",
       "    }\n",
       "\n",
       "    .dataframe thead th {\n",
       "        text-align: right;\n",
       "    }\n",
       "</style>\n",
       "<table border=\"1\" class=\"dataframe\">\n",
       "  <thead>\n",
       "    <tr style=\"text-align: right;\">\n",
       "      <th></th>\n",
       "      <th>artist</th>\n",
       "      <th>auth</th>\n",
       "      <th>firstName</th>\n",
       "      <th>gender</th>\n",
       "      <th>itemInSession</th>\n",
       "      <th>lastName</th>\n",
       "      <th>length</th>\n",
       "      <th>level</th>\n",
       "      <th>location</th>\n",
       "      <th>method</th>\n",
       "      <th>page</th>\n",
       "      <th>registration</th>\n",
       "      <th>sessionId</th>\n",
       "      <th>song</th>\n",
       "      <th>status</th>\n",
       "      <th>ts</th>\n",
       "      <th>userAgent</th>\n",
       "      <th>userId</th>\n",
       "    </tr>\n",
       "  </thead>\n",
       "  <tbody>\n",
       "    <tr>\n",
       "      <th>0</th>\n",
       "      <td>Martha Tilston</td>\n",
       "      <td>Logged In</td>\n",
       "      <td>Colin</td>\n",
       "      <td>M</td>\n",
       "      <td>50</td>\n",
       "      <td>Freeman</td>\n",
       "      <td>277.89016</td>\n",
       "      <td>paid</td>\n",
       "      <td>Bakersfield, CA</td>\n",
       "      <td>PUT</td>\n",
       "      <td>NextSong</td>\n",
       "      <td>1538173362000</td>\n",
       "      <td>29</td>\n",
       "      <td>Rockpools</td>\n",
       "      <td>200</td>\n",
       "      <td>1538352117000</td>\n",
       "      <td>Mozilla/5.0 (Windows NT 6.1; WOW64; rv:31.0) G...</td>\n",
       "      <td>30</td>\n",
       "    </tr>\n",
       "    <tr>\n",
       "      <th>1</th>\n",
       "      <td>Five Iron Frenzy</td>\n",
       "      <td>Logged In</td>\n",
       "      <td>Micah</td>\n",
       "      <td>M</td>\n",
       "      <td>79</td>\n",
       "      <td>Long</td>\n",
       "      <td>236.09424</td>\n",
       "      <td>free</td>\n",
       "      <td>Boston-Cambridge-Newton, MA-NH</td>\n",
       "      <td>PUT</td>\n",
       "      <td>NextSong</td>\n",
       "      <td>1538331630000</td>\n",
       "      <td>8</td>\n",
       "      <td>Canada</td>\n",
       "      <td>200</td>\n",
       "      <td>1538352180000</td>\n",
       "      <td>\"Mozilla/5.0 (Windows NT 6.1; WOW64) AppleWebK...</td>\n",
       "      <td>9</td>\n",
       "    </tr>\n",
       "    <tr>\n",
       "      <th>2</th>\n",
       "      <td>Adam Lambert</td>\n",
       "      <td>Logged In</td>\n",
       "      <td>Colin</td>\n",
       "      <td>M</td>\n",
       "      <td>51</td>\n",
       "      <td>Freeman</td>\n",
       "      <td>282.82730</td>\n",
       "      <td>paid</td>\n",
       "      <td>Bakersfield, CA</td>\n",
       "      <td>PUT</td>\n",
       "      <td>NextSong</td>\n",
       "      <td>1538173362000</td>\n",
       "      <td>29</td>\n",
       "      <td>Time For Miracles</td>\n",
       "      <td>200</td>\n",
       "      <td>1538352394000</td>\n",
       "      <td>Mozilla/5.0 (Windows NT 6.1; WOW64; rv:31.0) G...</td>\n",
       "      <td>30</td>\n",
       "    </tr>\n",
       "    <tr>\n",
       "      <th>3</th>\n",
       "      <td>Enigma</td>\n",
       "      <td>Logged In</td>\n",
       "      <td>Micah</td>\n",
       "      <td>M</td>\n",
       "      <td>80</td>\n",
       "      <td>Long</td>\n",
       "      <td>262.71302</td>\n",
       "      <td>free</td>\n",
       "      <td>Boston-Cambridge-Newton, MA-NH</td>\n",
       "      <td>PUT</td>\n",
       "      <td>NextSong</td>\n",
       "      <td>1538331630000</td>\n",
       "      <td>8</td>\n",
       "      <td>Knocking On Forbidden Doors</td>\n",
       "      <td>200</td>\n",
       "      <td>1538352416000</td>\n",
       "      <td>\"Mozilla/5.0 (Windows NT 6.1; WOW64) AppleWebK...</td>\n",
       "      <td>9</td>\n",
       "    </tr>\n",
       "    <tr>\n",
       "      <th>4</th>\n",
       "      <td>Daft Punk</td>\n",
       "      <td>Logged In</td>\n",
       "      <td>Colin</td>\n",
       "      <td>M</td>\n",
       "      <td>52</td>\n",
       "      <td>Freeman</td>\n",
       "      <td>223.60771</td>\n",
       "      <td>paid</td>\n",
       "      <td>Bakersfield, CA</td>\n",
       "      <td>PUT</td>\n",
       "      <td>NextSong</td>\n",
       "      <td>1538173362000</td>\n",
       "      <td>29</td>\n",
       "      <td>Harder Better Faster Stronger</td>\n",
       "      <td>200</td>\n",
       "      <td>1538352676000</td>\n",
       "      <td>Mozilla/5.0 (Windows NT 6.1; WOW64; rv:31.0) G...</td>\n",
       "      <td>30</td>\n",
       "    </tr>\n",
       "  </tbody>\n",
       "</table>\n",
       "</div>"
      ],
      "text/plain": [
       "             artist       auth firstName gender  itemInSession lastName  \\\n",
       "0    Martha Tilston  Logged In     Colin      M             50  Freeman   \n",
       "1  Five Iron Frenzy  Logged In     Micah      M             79     Long   \n",
       "2      Adam Lambert  Logged In     Colin      M             51  Freeman   \n",
       "3            Enigma  Logged In     Micah      M             80     Long   \n",
       "4         Daft Punk  Logged In     Colin      M             52  Freeman   \n",
       "\n",
       "      length level                        location method      page  \\\n",
       "0  277.89016  paid                 Bakersfield, CA    PUT  NextSong   \n",
       "1  236.09424  free  Boston-Cambridge-Newton, MA-NH    PUT  NextSong   \n",
       "2  282.82730  paid                 Bakersfield, CA    PUT  NextSong   \n",
       "3  262.71302  free  Boston-Cambridge-Newton, MA-NH    PUT  NextSong   \n",
       "4  223.60771  paid                 Bakersfield, CA    PUT  NextSong   \n",
       "\n",
       "    registration  sessionId                           song  status  \\\n",
       "0  1538173362000         29                      Rockpools     200   \n",
       "1  1538331630000          8                         Canada     200   \n",
       "2  1538173362000         29              Time For Miracles     200   \n",
       "3  1538331630000          8    Knocking On Forbidden Doors     200   \n",
       "4  1538173362000         29  Harder Better Faster Stronger     200   \n",
       "\n",
       "              ts                                          userAgent userId  \n",
       "0  1538352117000  Mozilla/5.0 (Windows NT 6.1; WOW64; rv:31.0) G...     30  \n",
       "1  1538352180000  \"Mozilla/5.0 (Windows NT 6.1; WOW64) AppleWebK...      9  \n",
       "2  1538352394000  Mozilla/5.0 (Windows NT 6.1; WOW64; rv:31.0) G...     30  \n",
       "3  1538352416000  \"Mozilla/5.0 (Windows NT 6.1; WOW64) AppleWebK...      9  \n",
       "4  1538352676000  Mozilla/5.0 (Windows NT 6.1; WOW64; rv:31.0) G...     30  "
      ]
     },
     "execution_count": 10,
     "metadata": {},
     "output_type": "execute_result"
    }
   ],
   "source": [
    "# Converting spark dataframe to pandas dataframe and displaying the top 5 cells using head function\n",
    "new_df = df.toPandas()\n",
    "new_df.head()"
   ]
  },
  {
   "cell_type": "code",
   "execution_count": 11,
   "metadata": {},
   "outputs": [
    {
     "data": {
      "text/plain": [
       "39        9632\n",
       "92        7230\n",
       "140       6880\n",
       "300011    5732\n",
       "124       4825\n",
       "300021    4659\n",
       "300017    4428\n",
       "85        4370\n",
       "42        4257\n",
       "200023    3769\n",
       "6         3761\n",
       "29        3603\n",
       "54        3437\n",
       "100       3214\n",
       "9         3191\n",
       "126       3102\n",
       "300015    3051\n",
       "91        3014\n",
       "98        2891\n",
       "74        2887\n",
       "118       2868\n",
       "136       2567\n",
       "65        2544\n",
       "138       2469\n",
       "88        2465\n",
       "51        2464\n",
       "4         2442\n",
       "97        2404\n",
       "81        2335\n",
       "132       2304\n",
       "          ... \n",
       "300007     143\n",
       "144        125\n",
       "154        118\n",
       "72         117\n",
       "57         112\n",
       "32         108\n",
       "63         107\n",
       "300024     102\n",
       "84          97\n",
       "100019      89\n",
       "200012      84\n",
       "116         79\n",
       "100003      78\n",
       "200007      76\n",
       "100017      75\n",
       "34          73\n",
       "64          68\n",
       "122         62\n",
       "134         52\n",
       "68          48\n",
       "90          45\n",
       "100006      44\n",
       "133         44\n",
       "22          40\n",
       "100024      36\n",
       "300003      35\n",
       "100011      23\n",
       "125         11\n",
       "156          6\n",
       "135          6\n",
       "Name: userId, Length: 225, dtype: int64"
      ]
     },
     "execution_count": 11,
     "metadata": {},
     "output_type": "execute_result"
    }
   ],
   "source": [
    "### Frequency count for 'userid'\n",
    "new_df['userId'].value_counts()"
   ]
  },
  {
   "cell_type": "raw",
   "metadata": {},
   "source": [
    "\n",
    "We notice that the range varies from 6 to 9632 for different users\n"
   ]
  },
  {
   "cell_type": "code",
   "execution_count": 12,
   "metadata": {},
   "outputs": [],
   "source": [
    "# creating new columns by clearly representing registration and timestamp  \n",
    "new_ts = udf(lambda x: datetime.datetime.fromtimestamp(x / 1000.0).strftime(\"%m-%d-%Y %H:%M:%S\"))\n",
    "df = df.withColumn('updated_registration', new_ts('registration'))\n",
    "df = df.withColumn('updated_ts', new_ts('ts'))"
   ]
  },
  {
   "cell_type": "code",
   "execution_count": 13,
   "metadata": {},
   "outputs": [
    {
     "name": "stdout",
     "output_type": "stream",
     "text": [
      "+------+---------+-----+-------------------+----------+--------------+\n",
      "|userId|firstName|level|         updated_ts|user_churn|user_downgrade|\n",
      "+------+---------+-----+-------------------+----------+--------------+\n",
      "|100010| Darianna| free|10-08-2018 12:58:54|         0|             0|\n",
      "|200002|  Dominic| free|10-01-2018 11:30:30|         0|             0|\n",
      "|   125|    Mason| free|10-12-2018 04:05:44|         1|             0|\n",
      "|   124|   Nicole| paid|10-01-2018 15:17:10|         0|             0|\n",
      "|    51|    Ethan| paid|10-01-2018 12:57:12|         1|             0|\n",
      "|     7|   Maddox| free|10-03-2018 11:57:49|         0|             0|\n",
      "|    15|    Panav| paid|10-01-2018 10:23:35|         0|             0|\n",
      "|    54|    Alexi| paid|10-01-2018 00:32:10|         1|             1|\n",
      "|   155|   Camila| free|11-02-2018 15:56:25|         0|             0|\n",
      "|100014|  Rodrigo| paid|10-10-2018 13:12:16|         1|             0|\n",
      "+------+---------+-----+-------------------+----------+--------------+\n",
      "only showing top 10 rows\n",
      "\n"
     ]
    }
   ],
   "source": [
    "downgrade_value  = udf(lambda x: 1 if x == \"Submit Downgrade\" else 0, IntegerType())\n",
    "df = df.withColumn(\"downgrade_value\", downgrade_value(\"page\"))\n",
    "\n",
    "# find all users who downgraded\n",
    "dg_window = Window.partitionBy('UserId')\n",
    "df = df.withColumn(\"user_downgrade\", max('downgrade_value').over(dg_window))\n",
    "\n",
    "# define a churn label\n",
    "churn_value = udf(lambda x: 1 if x == 'Cancellation Confirmation' else 0, IntegerType())\n",
    "df = df.withColumn(\"churn_value\", churn_value(\"page\"))\n",
    "\n",
    "# find all users who churned\n",
    "churn_window = Window.partitionBy('UserId')\n",
    "df = df.withColumn(\"user_churn\", max('churn_value').over(churn_window))\n",
    "\n",
    "# selecting few users to see\n",
    "df.select(['userId', 'firstName', 'level','updated_ts','user_churn', 'user_downgrade']).dropDuplicates(subset = ['userId']).show(10)"
   ]
  },
  {
   "cell_type": "raw",
   "metadata": {},
   "source": [
    "\n",
    "We have defined churn in such a way that it has the value 1 if the user has cancelled the service, 0 otherwise. We will explore how many times the users have cancelled the service. For this purpose we used 'Cancellation Confirmation' column\n"
   ]
  },
  {
   "cell_type": "code",
   "execution_count": 14,
   "metadata": {},
   "outputs": [],
   "source": [
    "user_agg_churn = df.select([\"userId\", \"user_churn\"]) \\\n",
    "     .groupBy(\"userId\") \\\n",
    "     .agg(Fsum('user_churn').alias('sum'))"
   ]
  },
  {
   "cell_type": "code",
   "execution_count": 15,
   "metadata": {},
   "outputs": [
    {
     "name": "stdout",
     "output_type": "stream",
     "text": [
      "173\n"
     ]
    }
   ],
   "source": [
    "print(user_agg_churn.filter(user_agg_churn[\"sum\"] == 0).count())"
   ]
  },
  {
   "cell_type": "raw",
   "metadata": {},
   "source": [
    "Hence there are 173 users who have not cancelled the service "
   ]
  },
  {
   "cell_type": "code",
   "execution_count": 16,
   "metadata": {},
   "outputs": [
    {
     "name": "stdout",
     "output_type": "stream",
     "text": [
      "0\n"
     ]
    }
   ],
   "source": [
    "print(user_agg_churn.filter(user_agg_churn[\"sum\"] == 1).count())"
   ]
  },
  {
   "cell_type": "code",
   "execution_count": 17,
   "metadata": {},
   "outputs": [
    {
     "data": {
      "text/plain": [
       "52"
      ]
     },
     "execution_count": 17,
     "metadata": {},
     "output_type": "execute_result"
    }
   ],
   "source": [
    "user_agg_churn.filter(user_agg_churn[\"sum\"] > 1).count()"
   ]
  },
  {
   "cell_type": "raw",
   "metadata": {},
   "source": [
    "There are 52 users who have cancelled the service more than 1 time"
   ]
  },
  {
   "cell_type": "code",
   "execution_count": 18,
   "metadata": {},
   "outputs": [
    {
     "name": "stdout",
     "output_type": "stream",
     "text": [
      "+--------------------+\n",
      "|                page|\n",
      "+--------------------+\n",
      "|              Cancel|\n",
      "|    Submit Downgrade|\n",
      "|         Thumbs Down|\n",
      "|                Home|\n",
      "|           Downgrade|\n",
      "|         Roll Advert|\n",
      "|              Logout|\n",
      "|       Save Settings|\n",
      "|Cancellation Conf...|\n",
      "|               About|\n",
      "|            Settings|\n",
      "|     Add to Playlist|\n",
      "|          Add Friend|\n",
      "|            NextSong|\n",
      "|           Thumbs Up|\n",
      "|                Help|\n",
      "|             Upgrade|\n",
      "|               Error|\n",
      "|      Submit Upgrade|\n",
      "+--------------------+\n",
      "\n"
     ]
    }
   ],
   "source": [
    "# Get a list of all unique pages\n",
    "df.select(\"page\").dropDuplicates().show()"
   ]
  },
  {
   "cell_type": "code",
   "execution_count": 19,
   "metadata": {},
   "outputs": [
    {
     "name": "stdout",
     "output_type": "stream",
     "text": [
      "+----------+------+-----+\n",
      "|user_churn|gender|count|\n",
      "+----------+------+-----+\n",
      "|         0|     M|   89|\n",
      "|         0|     F|   84|\n",
      "|         1|     F|   20|\n",
      "|         1|     M|   32|\n",
      "+----------+------+-----+\n",
      "\n"
     ]
    }
   ],
   "source": [
    "# gender distribution between churn users and non-churner \n",
    "df.drop_duplicates(['userId', 'gender']).groupby(['user_churn', 'gender']).count().sort(\"user_churn\").show()"
   ]
  },
  {
   "cell_type": "code",
   "execution_count": 20,
   "metadata": {},
   "outputs": [
    {
     "data": {
      "text/plain": [
       "<matplotlib.axes._subplots.AxesSubplot at 0x7f1c3e5e1e48>"
      ]
     },
     "execution_count": 20,
     "metadata": {},
     "output_type": "execute_result"
    },
    {
     "data": {
      "image/png": "[encoded data removed]",
      "text/plain": [
       "<matplotlib.figure.Figure at 0x7f1c3e12d860>"
      ]
     },
     "metadata": {
      "needs_background": "light"
     },
     "output_type": "display_data"
    }
   ],
   "source": [
    "# Plotting this on a bar plot to show gender distribution between churners and non-churners\n",
    "df_ch_pd = df.drop_duplicates(['userId', 'gender']).groupby(['user_churn', 'gender']).count().sort(\"user_churn\").toPandas()\n",
    "sns.barplot(x = 'user_churn', y = 'count', data = df_ch_pd, hue = 'gender')"
   ]
  },
  {
   "cell_type": "raw",
   "metadata": {},
   "source": [
    "From the visualization, it is evident that male are more likely to churn"
   ]
  },
  {
   "cell_type": "code",
   "execution_count": 21,
   "metadata": {},
   "outputs": [
    {
     "data": {
      "text/plain": [
       "<matplotlib.axes._subplots.AxesSubplot at 0x7f1c4d810cf8>"
      ]
     },
     "execution_count": 21,
     "metadata": {},
     "output_type": "execute_result"
    },
    {
     "data": {
      "image/png": "[encoded data removed]",
      "text/plain": [
       "<matplotlib.figure.Figure at 0x7f1c4d810780>"
      ]
     },
     "metadata": {
      "needs_background": "light"
     },
     "output_type": "display_data"
    }
   ],
   "source": [
    "# Finding out which level customers churn more and plotting it\n",
    "level_df = df.filter('page == \"Cancellation Confirmation\"').groupby('level').count().toPandas()\n",
    "sns.barplot(data = level_df, x = 'level', y = 'count', color = sns.color_palette()[0])"
   ]
  },
  {
   "cell_type": "raw",
   "metadata": {},
   "source": [
    "From the plot we can observe that paid users are more likely to churn"
   ]
  },
  {
   "cell_type": "code",
   "execution_count": 22,
   "metadata": {},
   "outputs": [
    {
     "data": {
      "image/png": "[encoded data removed]",
      "text/plain": [
       "<matplotlib.figure.Figure at 0x7f1c470cfc50>"
      ]
     },
     "metadata": {
      "needs_background": "light"
     },
     "output_type": "display_data"
    }
   ],
   "source": [
    "# Lets determine the gender distribution for number of songs played per session for churned and normal users\n",
    "total_songs_df = df.where('page == \"NextSong\"').groupby(['user_churn', 'userId', 'sessionId', 'gender']).count()\\\n",
    "    .groupby(['user_churn', 'userId', 'gender']).agg({'count': 'avg'})\\\n",
    "    .withColumnRenamed('avg(count)', 'avg_played_songs').toPandas()\n",
    "\n",
    "ax = sns.violinplot('user_churn', y = 'avg_played_songs', hue = 'gender', data = total_songs_df)"
   ]
  },
  {
   "cell_type": "raw",
   "metadata": {},
   "source": [
    "We can clearly observe that the churned users clearly played less number of songs per session when compared to users who did not churn"
   ]
  },
  {
   "cell_type": "code",
   "execution_count": 24,
   "metadata": {},
   "outputs": [
    {
     "data": {
      "text/plain": [
       "<matplotlib.axes._subplots.AxesSubplot at 0x7f1c3f4de128>"
      ]
     },
     "execution_count": 24,
     "metadata": {},
     "output_type": "execute_result"
    },
    {
     "data": {
      "image/png": "[encoded data removed]",
      "text/plain": [
       "<matplotlib.figure.Figure at 0x7f1c4d9eec50>"
      ]
     },
     "metadata": {
      "needs_background": "light"
     },
     "output_type": "display_data"
    }
   ],
   "source": [
    "# Let's determine the gender distribution for total operations per session between normal and churned users\n",
    "df_ops = df.groupby(\"user_churn\", \"userId\", \"sessionId\", 'gender').count().toPandas()\n",
    "sns.boxplot(x = 'count', y = 'user_churn', orient = 'horizontal', data = df_ops, hue = 'gender')"
   ]
  },
  {
   "cell_type": "raw",
   "metadata": {},
   "source": [
    "We observe that churned users performed far less operations when compared to users who did not churn and male users are more likely to churn"
   ]
  },
  {
   "cell_type": "markdown",
   "metadata": {},
   "source": [
    "# Feature Engineering\n",
    "Once you've familiarized yourself with the data, build out the features you find promising to train your model on. To work with the full dataset, you can follow the following steps.\n",
    "- Write a script to extract the necessary features from the smaller subset of data\n",
    "- Ensure that your script is scalable, using the best practices discussed in Lesson 3\n",
    "- Try your script on the full data set, debugging your script if necessary\n",
    "\n",
    "If you are working in the classroom workspace, you can just extract features based on the small subset of data contained here. Be sure to transfer over this work to the larger dataset when you work on your Spark cluster."
   ]
  },
  {
   "cell_type": "code",
   "execution_count": 25,
   "metadata": {},
   "outputs": [
    {
     "name": "stdout",
     "output_type": "stream",
     "text": [
      "+------+---------+\n",
      "|userId|tot_songs|\n",
      "+------+---------+\n",
      "|100010|      381|\n",
      "|200002|      474|\n",
      "|   125|       11|\n",
      "|    51|     2464|\n",
      "|   124|     4825|\n",
      "|     7|      201|\n",
      "|    54|     3437|\n",
      "|    15|     2278|\n",
      "|   155|     1002|\n",
      "|   132|     2304|\n",
      "|   154|      118|\n",
      "|100014|      310|\n",
      "|   101|     2149|\n",
      "|    11|      848|\n",
      "|   138|     2469|\n",
      "|300017|     4428|\n",
      "|    29|     3603|\n",
      "|    69|     1342|\n",
      "|100021|      319|\n",
      "|    42|     4257|\n",
      "+------+---------+\n",
      "only showing top 20 rows\n",
      "\n"
     ]
    }
   ],
   "source": [
    "# Feature 1 : Total number of  songs listened\n",
    "feat_1 = df.select('userId', 'song').groupBy('userId').count().withColumnRenamed('count', 'tot_songs')\n",
    "feat_1.show()"
   ]
  },
  {
   "cell_type": "code",
   "execution_count": 26,
   "metadata": {},
   "outputs": [
    {
     "name": "stdout",
     "output_type": "stream",
     "text": [
      "+------+-------------+\n",
      "|userId|tot_thumbs_up|\n",
      "+------+-------------+\n",
      "|100010|           17|\n",
      "|200002|           21|\n",
      "|    51|          100|\n",
      "|   124|          171|\n",
      "|     7|            7|\n",
      "|    54|          163|\n",
      "|    15|           81|\n",
      "|   155|           58|\n",
      "|   132|           96|\n",
      "|   154|           11|\n",
      "|100014|           17|\n",
      "|   101|           86|\n",
      "|    11|           40|\n",
      "|   138|           95|\n",
      "|300017|          303|\n",
      "|    29|          154|\n",
      "|    69|           72|\n",
      "|100021|           11|\n",
      "|    42|          166|\n",
      "|   112|            9|\n",
      "+------+-------------+\n",
      "only showing top 20 rows\n",
      "\n"
     ]
    }
   ],
   "source": [
    "# Feature 2 : Number of thumbs up\n",
    "feat_2 = df.select('userId', 'page').where(df.page == 'Thumbs Up').groupBy('userId').count().withColumnRenamed('count', 'tot_thumbs_up')\n",
    "feat_2.show()"
   ]
  },
  {
   "cell_type": "code",
   "execution_count": 27,
   "metadata": {},
   "outputs": [
    {
     "name": "stdout",
     "output_type": "stream",
     "text": [
      "+------+---------------+\n",
      "|userId|tot_thumbs_down|\n",
      "+------+---------------+\n",
      "|100010|              5|\n",
      "|200002|              6|\n",
      "|    51|             21|\n",
      "|   124|             41|\n",
      "|     7|              1|\n",
      "|    15|             14|\n",
      "|    54|             29|\n",
      "|   155|              3|\n",
      "|   132|             17|\n",
      "|100014|              3|\n",
      "|   101|             16|\n",
      "|    11|              9|\n",
      "|   138|             24|\n",
      "|300017|             28|\n",
      "|    29|             22|\n",
      "|    69|              9|\n",
      "|100021|              5|\n",
      "|    42|             25|\n",
      "|   112|              3|\n",
      "|    73|              7|\n",
      "+------+---------------+\n",
      "only showing top 20 rows\n",
      "\n"
     ]
    }
   ],
   "source": [
    "# Feature 3 : Number of thumbs down\n",
    "feat_3 = df.select('userId', 'page').where(df.page == 'Thumbs Down').groupBy('userId').count().withColumnRenamed('count', 'tot_thumbs_down')\n",
    "feat_3.show()"
   ]
  },
  {
   "cell_type": "code",
   "execution_count": 28,
   "metadata": {},
   "outputs": [
    {
     "name": "stdout",
     "output_type": "stream",
     "text": [
      "+------+------------------+\n",
      "|userId|      tot_lifetime|\n",
      "+------+------------------+\n",
      "|100010|  55.6436574074074|\n",
      "|200002| 70.07462962962963|\n",
      "|   125| 71.31688657407408|\n",
      "|    51|19.455844907407407|\n",
      "|   124|131.55591435185184|\n",
      "|     7| 72.77818287037037|\n",
      "|    54|110.75168981481481|\n",
      "|    15|56.513576388888886|\n",
      "|   155|23.556018518518517|\n",
      "|   132|  66.8891087962963|\n",
      "|   154|23.872037037037035|\n",
      "|100014| 85.08340277777778|\n",
      "|   101|53.965937499999995|\n",
      "|    11|124.47825231481481|\n",
      "|   138| 66.62668981481481|\n",
      "|300017| 74.35851851851852|\n",
      "|    29|60.104050925925925|\n",
      "|    69| 71.42444444444445|\n",
      "|100021| 64.73886574074074|\n",
      "|    42| 67.11364583333334|\n",
      "+------+------------------+\n",
      "only showing top 20 rows\n",
      "\n"
     ]
    }
   ],
   "source": [
    "# Feature 4 : Total time since registration\n",
    "feat_4 = df.select('userId', 'registration', 'ts').withColumn('tot_lifetime', (df.ts - df.registration))\\\n",
    "    .groupBy('userId').agg({'tot_lifetime' : 'max'})\\\n",
    "    .withColumnRenamed('max(tot_lifetime)', 'tot_lifetime')\\\n",
    "    .select('userId', (col('tot_lifetime')/1000/3600/24).alias('tot_lifetime'))\n",
    "feat_4.show()"
   ]
  },
  {
   "cell_type": "code",
   "execution_count": 29,
   "metadata": {},
   "outputs": [
    {
     "name": "stdout",
     "output_type": "stream",
     "text": [
      "+------+------------------+\n",
      "|userId|   tot_listen_time|\n",
      "+------+------------------+\n",
      "|100010| 66940.89735000003|\n",
      "|200002| 94008.87593999993|\n",
      "|   125|2089.1131000000005|\n",
      "|    51| 523275.8428000004|\n",
      "|   124|1012312.0927899999|\n",
      "|     7| 38034.08710000002|\n",
      "|    54| 711344.9195400011|\n",
      "|    15|477307.60581000015|\n",
      "|   155|       198779.2919|\n",
      "|   132| 483118.9038399997|\n",
      "|   154|20660.023910000007|\n",
      "|100014| 67703.47208000004|\n",
      "|   101| 447464.0146699989|\n",
      "|    11|159669.96303999983|\n",
      "|   138| 512449.8827599989|\n",
      "|300017| 897406.9802100015|\n",
      "|    29| 754517.5625700009|\n",
      "|    69| 286064.0256399999|\n",
      "|100021| 57633.17563999999|\n",
      "|    42| 881792.9661300007|\n",
      "+------+------------------+\n",
      "only showing top 20 rows\n",
      "\n"
     ]
    }
   ],
   "source": [
    "# Feature 5 : Total length of listening utilizing all services\n",
    "feat_5 = df.select(\"userId\", 'length').groupBy('userId').sum().withColumnRenamed('sum(length)', 'tot_listen_time')\n",
    "feat_5.show()"
   ]
  },
  {
   "cell_type": "code",
   "execution_count": 30,
   "metadata": {},
   "outputs": [
    {
     "name": "stdout",
     "output_type": "stream",
     "text": [
      "+------+-----------+\n",
      "|userId|tot_friends|\n",
      "+------+-----------+\n",
      "|100010|          4|\n",
      "|200002|          4|\n",
      "|    51|         28|\n",
      "|   124|         74|\n",
      "|     7|          1|\n",
      "|    54|         33|\n",
      "|    15|         31|\n",
      "|   155|         11|\n",
      "|   132|         41|\n",
      "|   154|          3|\n",
      "|100014|          6|\n",
      "|   101|         29|\n",
      "|    11|          6|\n",
      "|   138|         41|\n",
      "|300017|         63|\n",
      "|    29|         47|\n",
      "|    69|         12|\n",
      "|100021|          7|\n",
      "|    42|         52|\n",
      "|   112|          7|\n",
      "+------+-----------+\n",
      "only showing top 20 rows\n",
      "\n"
     ]
    }
   ],
   "source": [
    "# Feature 6 : Total number of friends\n",
    "feat_6 = df.select('userId', 'page').where(df.page == 'Add Friend').groupBy('userId').count().withColumnRenamed('count', 'tot_friends')\n",
    "feat_6.show()"
   ]
  },
  {
   "cell_type": "code",
   "execution_count": 31,
   "metadata": {},
   "outputs": [
    {
     "name": "stdout",
     "output_type": "stream",
     "text": [
      "+------+------+\n",
      "|userId|gender|\n",
      "+------+------+\n",
      "|    44|     0|\n",
      "|    46|     0|\n",
      "|    41|     0|\n",
      "|    72|     0|\n",
      "|300023|     0|\n",
      "|    39|     0|\n",
      "|100010|     0|\n",
      "|    40|     0|\n",
      "|    94|     0|\n",
      "|    35|     0|\n",
      "|    75|     0|\n",
      "|   116|     0|\n",
      "|200001|     1|\n",
      "|200020|     1|\n",
      "|100008|     0|\n",
      "|200015|     1|\n",
      "|   100|     1|\n",
      "|100006|     0|\n",
      "|300005|     0|\n",
      "|    25|     0|\n",
      "+------+------+\n",
      "only showing top 20 rows\n",
      "\n"
     ]
    }
   ],
   "source": [
    "# Feature 7 : Gender of the user\n",
    "feat_7 = df.select('userId', 'gender').dropDuplicates().replace(['F', 'M'], ['0', '1'], 'gender').select('userId', col('gender').cast('int'))\n",
    "feat_7.show()"
   ]
  },
  {
   "cell_type": "code",
   "execution_count": 32,
   "metadata": {},
   "outputs": [
    {
     "name": "stdout",
     "output_type": "stream",
     "text": [
      "+------+------------------+\n",
      "|userId|  avg_played_songs|\n",
      "+------+------------------+\n",
      "|100010|39.285714285714285|\n",
      "|200002|              64.5|\n",
      "|   125|               8.0|\n",
      "|    51|             211.1|\n",
      "|   124|145.67857142857142|\n",
      "|     7|21.428571428571427|\n",
      "|    54| 81.17142857142858|\n",
      "|    15|136.71428571428572|\n",
      "|   155|136.66666666666666|\n",
      "|100014|42.833333333333336|\n",
      "|   132|             120.5|\n",
      "|   154|              28.0|\n",
      "|   101|             179.7|\n",
      "|    11|           40.4375|\n",
      "|300017|59.540983606557376|\n",
      "|   138|             138.0|\n",
      "|    29| 89.05882352941177|\n",
      "|    69|             125.0|\n",
      "|100021|              46.0|\n",
      "|    42| 87.14634146341463|\n",
      "+------+------------------+\n",
      "only showing top 20 rows\n",
      "\n"
     ]
    }
   ],
   "source": [
    "# Feature 8 : Total number of songs listened per session\n",
    "feat_8  = df.where('page == \"NextSong\"').groupby(['userId', 'sessionId']).count().groupby('userId')\\\n",
    "          .agg({'count' : 'avg'}).withColumnRenamed('avg(count)', 'avg_played_songs')\n",
    "\n",
    "feat_8.show()"
   ]
  },
  {
   "cell_type": "code",
   "execution_count": 33,
   "metadata": {},
   "outputs": [
    {
     "name": "stdout",
     "output_type": "stream",
     "text": [
      "+------+-----------------+\n",
      "|userId|tot_artist_played|\n",
      "+------+-----------------+\n",
      "|100010|              252|\n",
      "|200002|              339|\n",
      "|   125|                8|\n",
      "|    51|             1385|\n",
      "|   124|             2232|\n",
      "|     7|              142|\n",
      "|    15|             1302|\n",
      "|    54|             1744|\n",
      "|   155|              643|\n",
      "|   132|             1299|\n",
      "|   154|               78|\n",
      "|100014|              233|\n",
      "|   101|             1241|\n",
      "|    11|              534|\n",
      "|   138|             1332|\n",
      "|300017|             2070|\n",
      "|    29|             1804|\n",
      "|    69|              865|\n",
      "|100021|              207|\n",
      "|    42|             2073|\n",
      "+------+-----------------+\n",
      "only showing top 20 rows\n",
      "\n"
     ]
    }
   ],
   "source": [
    "# Feature 9 : Total number of artists the user has listened to\n",
    "feat_9 = df.filter(df.page == \"NextSong\").select(\"userId\", \"artist\").dropDuplicates().groupby(\"userId\").count()\\\n",
    "         .withColumnRenamed(\"count\", \"tot_artist_played\")\n",
    "feat_9.show()"
   ]
  },
  {
   "cell_type": "code",
   "execution_count": 34,
   "metadata": {},
   "outputs": [
    {
     "name": "stdout",
     "output_type": "stream",
     "text": [
      "+------+------+\n",
      "|userId|target|\n",
      "+------+------+\n",
      "|100010|     0|\n",
      "|200002|     0|\n",
      "|   125|     1|\n",
      "|   124|     0|\n",
      "|    51|     1|\n",
      "|     7|     0|\n",
      "|    15|     0|\n",
      "|    54|     1|\n",
      "|   155|     0|\n",
      "|100014|     1|\n",
      "|   132|     0|\n",
      "|   154|     0|\n",
      "|   101|     1|\n",
      "|    11|     0|\n",
      "|   138|     0|\n",
      "|300017|     0|\n",
      "|100021|     1|\n",
      "|    29|     1|\n",
      "|    69|     0|\n",
      "|   112|     0|\n",
      "+------+------+\n",
      "only showing top 20 rows\n",
      "\n"
     ]
    }
   ],
   "source": [
    "# setting the churn label for modeling purpose\n",
    "target = df.select('userId', col('user_churn').alias('target')).dropDuplicates()\n",
    "target.show()"
   ]
  },
  {
   "cell_type": "code",
   "execution_count": 35,
   "metadata": {},
   "outputs": [
    {
     "name": "stdout",
     "output_type": "stream",
     "text": [
      "+---------+-------------+---------------+------------------+------------------+-----------+------+------------------+-----------------+------+\n",
      "|tot_songs|tot_thumbs_up|tot_thumbs_down|      tot_lifetime|   tot_listen_time|tot_friends|gender|  avg_played_songs|tot_artist_played|target|\n",
      "+---------+-------------+---------------+------------------+------------------+-----------+------+------------------+-----------------+------+\n",
      "|      381|           17|              5|  55.6436574074074| 66940.89735000003|          4|     0|39.285714285714285|              252|     0|\n",
      "|      474|           21|              6| 70.07462962962963| 94008.87593999993|          4|     1|              64.5|              339|     0|\n",
      "|     4825|          171|             41|131.55591435185184|1012312.0927899999|         74|     0|145.67857142857142|             2232|     0|\n",
      "|     2464|          100|             21|19.455844907407407| 523275.8428000004|         28|     1|             211.1|             1385|     1|\n",
      "|      201|            7|              1| 72.77818287037037| 38034.08710000002|          1|     1|21.428571428571427|              142|     0|\n",
      "|     2278|           81|             14|56.513576388888886|477307.60581000015|         31|     1|136.71428571428572|             1302|     0|\n",
      "|     3437|          163|             29|110.75168981481481| 711344.9195400011|         33|     0| 81.17142857142858|             1744|     1|\n",
      "|     1002|           58|              3|23.556018518518517|       198779.2919|         11|     0|136.66666666666666|              643|     0|\n",
      "|      310|           17|              3| 85.08340277777778| 67703.47208000004|          6|     1|42.833333333333336|              233|     1|\n",
      "|     2304|           96|             17|  66.8891087962963| 483118.9038399997|         41|     0|             120.5|             1299|     0|\n",
      "|     2149|           86|             16|53.965937499999995| 447464.0146699989|         29|     1|             179.7|             1241|     1|\n",
      "|      848|           40|              9|124.47825231481481|159669.96303999983|          6|     0|           40.4375|              534|     0|\n",
      "|     2469|           95|             24| 66.62668981481481| 512449.8827599989|         41|     1|             138.0|             1332|     0|\n",
      "|     4428|          303|             28| 74.35851851851852| 897406.9802100015|         63|     0|59.540983606557376|             2070|     0|\n",
      "|      319|           11|              5| 64.73886574074074| 57633.17563999999|          7|     1|              46.0|              207|     1|\n",
      "|     3603|          154|             22|60.104050925925925| 754517.5625700009|         47|     1| 89.05882352941177|             1804|     1|\n",
      "|     1342|           72|              9| 71.42444444444445| 286064.0256399999|         12|     0|             125.0|              865|     0|\n",
      "|      292|            9|              3| 87.46262731481481| 53062.74659000002|          7|     1| 23.88888888888889|              195|     0|\n",
      "|     4257|          166|             25| 67.11364583333334| 881792.9661300007|         52|     0| 87.14634146341463|             2073|     0|\n",
      "|      457|           14|              7| 49.76208333333333| 94240.35148000003|         11|     0|62.833333333333336|              334|     1|\n",
      "+---------+-------------+---------------+------------------+------------------+-----------+------+------------------+-----------------+------+\n",
      "only showing top 20 rows\n",
      "\n"
     ]
    }
   ],
   "source": [
    "# Combining all features with the target churn label\n",
    "\n",
    "final_data = feat_1.join(feat_2, 'userId', 'inner').join(feat_3, 'userId', 'inner').join(feat_4, 'userId', 'inner')\\\n",
    "             .join(feat_5, 'userId', 'inner').join(feat_6, 'userId', 'inner').join(feat_7, 'userId', 'inner')\\\n",
    "             .join(feat_8, 'userId', 'inner').join(feat_9, 'userId', 'inner').join(target, 'userId', 'inner').drop('userId')\n",
    "\n",
    "final_data.show()"
   ]
  },
  {
   "cell_type": "code",
   "execution_count": 36,
   "metadata": {},
   "outputs": [],
   "source": [
    "# Converting this to pandas dataframe\n",
    "fin_pd = final_data.toPandas()"
   ]
  },
  {
   "cell_type": "code",
   "execution_count": 37,
   "metadata": {},
   "outputs": [
    {
     "data": {
      "text/plain": [
       "tot_songs            0\n",
       "tot_thumbs_up        0\n",
       "tot_thumbs_down      0\n",
       "tot_lifetime         0\n",
       "tot_listen_time      0\n",
       "tot_friends          0\n",
       "gender               0\n",
       "avg_played_songs     0\n",
       "tot_artist_played    0\n",
       "target               0\n",
       "dtype: int64"
      ]
     },
     "execution_count": 37,
     "metadata": {},
     "output_type": "execute_result"
    }
   ],
   "source": [
    "### Check for missing values\n",
    "fin_pd.isnull().sum()"
   ]
  },
  {
   "cell_type": "markdown",
   "metadata": {},
   "source": [
    "# Modeling\n",
    "Split the full dataset into train, test, and validation sets. Test out several of the machine learning methods you learned. Evaluate the accuracy of the various models, tuning parameters as necessary. Determine your winning model based on test accuracy and report results on the validation set. Since the churned users are a fairly small subset, I suggest using F1 score as the metric to optimize."
   ]
  },
  {
   "cell_type": "code",
   "execution_count": 38,
   "metadata": {},
   "outputs": [
    {
     "name": "stdout",
     "output_type": "stream",
     "text": [
      "+---------+-------------+---------------+------------------+------------------+-----------+------+------------------+-----------------+------+--------------------+\n",
      "|tot_songs|tot_thumbs_up|tot_thumbs_down|      tot_lifetime|   tot_listen_time|tot_friends|gender|  avg_played_songs|tot_artist_played|target|        VectFeatures|\n",
      "+---------+-------------+---------------+------------------+------------------+-----------+------+------------------+-----------------+------+--------------------+\n",
      "|      381|           17|              5|  55.6436574074074| 66940.89735000003|          4|     0|39.285714285714285|              252|     0|[381.0,17.0,5.0,5...|\n",
      "|      474|           21|              6| 70.07462962962963| 94008.87593999993|          4|     1|              64.5|              339|     0|[474.0,21.0,6.0,7...|\n",
      "|     4825|          171|             41|131.55591435185184|1012312.0927899999|         74|     0|145.67857142857142|             2232|     0|[4825.0,171.0,41....|\n",
      "|     2464|          100|             21|19.455844907407407| 523275.8428000004|         28|     1|             211.1|             1385|     1|[2464.0,100.0,21....|\n",
      "|      201|            7|              1| 72.77818287037037| 38034.08710000002|          1|     1|21.428571428571427|              142|     0|[201.0,7.0,1.0,72...|\n",
      "|     2278|           81|             14|56.513576388888886|477307.60581000015|         31|     1|136.71428571428572|             1302|     0|[2278.0,81.0,14.0...|\n",
      "|     3437|          163|             29|110.75168981481481| 711344.9195400011|         33|     0| 81.17142857142858|             1744|     1|[3437.0,163.0,29....|\n",
      "|     1002|           58|              3|23.556018518518517|       198779.2919|         11|     0|136.66666666666666|              643|     0|[1002.0,58.0,3.0,...|\n",
      "|      310|           17|              3| 85.08340277777778| 67703.47208000004|          6|     1|42.833333333333336|              233|     1|[310.0,17.0,3.0,8...|\n",
      "|     2304|           96|             17|  66.8891087962963| 483118.9038399997|         41|     0|             120.5|             1299|     0|[2304.0,96.0,17.0...|\n",
      "|     2149|           86|             16|53.965937499999995| 447464.0146699989|         29|     1|             179.7|             1241|     1|[2149.0,86.0,16.0...|\n",
      "|      848|           40|              9|124.47825231481481|159669.96303999983|          6|     0|           40.4375|              534|     0|[848.0,40.0,9.0,1...|\n",
      "|     2469|           95|             24| 66.62668981481481| 512449.8827599989|         41|     1|             138.0|             1332|     0|[2469.0,95.0,24.0...|\n",
      "|     4428|          303|             28| 74.35851851851852| 897406.9802100015|         63|     0|59.540983606557376|             2070|     0|[4428.0,303.0,28....|\n",
      "|      319|           11|              5| 64.73886574074074| 57633.17563999999|          7|     1|              46.0|              207|     1|[319.0,11.0,5.0,6...|\n",
      "|     3603|          154|             22|60.104050925925925| 754517.5625700009|         47|     1| 89.05882352941177|             1804|     1|[3603.0,154.0,22....|\n",
      "|     1342|           72|              9| 71.42444444444445| 286064.0256399999|         12|     0|             125.0|              865|     0|[1342.0,72.0,9.0,...|\n",
      "|      292|            9|              3| 87.46262731481481| 53062.74659000002|          7|     1| 23.88888888888889|              195|     0|[292.0,9.0,3.0,87...|\n",
      "|     4257|          166|             25| 67.11364583333334| 881792.9661300007|         52|     0| 87.14634146341463|             2073|     0|[4257.0,166.0,25....|\n",
      "|      457|           14|              7| 49.76208333333333| 94240.35148000003|         11|     0|62.833333333333336|              334|     1|[457.0,14.0,7.0,4...|\n",
      "+---------+-------------+---------------+------------------+------------------+-----------+------+------------------+-----------------+------+--------------------+\n",
      "only showing top 20 rows\n",
      "\n"
     ]
    }
   ],
   "source": [
    "# Step 1 : Vectorizing all of our features\n",
    "\n",
    "ipcols = ['tot_songs', 'tot_thumbs_up', 'tot_thumbs_down', 'tot_lifetime', 'tot_listen_time', 'tot_friends', 'gender', 'avg_played_songs', 'tot_artist_played']\n",
    "assmblr = VectorAssembler(inputCols = ipcols, outputCol = \"VectFeatures\")\n",
    "final_data = assmblr.transform(final_data)\n",
    "final_data.show()"
   ]
  },
  {
   "cell_type": "code",
   "execution_count": 39,
   "metadata": {},
   "outputs": [],
   "source": [
    "# Step 2 : Standardizing all input features using StandardScaler\n",
    "scaler = StandardScaler(inputCol = 'VectFeatures', outputCol = \"newFeatures\", withStd = True)\n",
    "scaler_model = scaler.fit(final_data)\n",
    "final_data = scaler_model.transform(final_data)"
   ]
  },
  {
   "cell_type": "code",
   "execution_count": 40,
   "metadata": {},
   "outputs": [
    {
     "name": "stdout",
     "output_type": "stream",
     "text": [
      "+-----+--------------------+\n",
      "|label|            features|\n",
      "+-----+--------------------+\n",
      "|    0|[0.28303716272111...|\n",
      "|    0|[0.35212497409397...|\n",
      "|    0|[3.58439451477521...|\n",
      "|    1|[1.83045556153494...|\n",
      "|    0|[0.14931881812845...|\n",
      "|    0|[1.69227993878920...|\n",
      "|    1|[2.55327750202744...|\n",
      "|    0|[0.74436545156575...|\n",
      "|    1|[0.23029270457623...|\n",
      "|    0|[1.71159481078592...|\n",
      "|    1|[1.59644845849780...|\n",
      "|    0|[0.62996197896981...|\n",
      "|    0|[1.83416995999585...|\n",
      "|    0|[3.2894712769792,...|\n",
      "|    1|[0.23697862180586...|\n",
      "|    1|[2.67659553092955...|\n",
      "|    0|[0.99694454690742...|\n",
      "|    0|[0.21692087011696...|\n",
      "|    0|[3.16243884961618...|\n",
      "|    1|[0.33949601932689...|\n",
      "+-----+--------------------+\n",
      "only showing top 20 rows\n",
      "\n"
     ]
    }
   ],
   "source": [
    "data = final_data.select(final_data.target.alias(\"label\"), final_data.newFeatures.alias(\"features\"))\n",
    "data.show()"
   ]
  },
  {
   "cell_type": "code",
   "execution_count": 41,
   "metadata": {},
   "outputs": [],
   "source": [
    "### Splitting it into train(70%) and val(30%)\n",
    "train, val = data.randomSplit([0.7, 0.3], seed = 42)\n",
    "train = train.cache()"
   ]
  },
  {
   "cell_type": "code",
   "execution_count": 42,
   "metadata": {},
   "outputs": [],
   "source": [
    "# Approach 1 : Random Forest Classifier\n",
    "rf_clf = RandomForestClassifier()\n",
    "\n",
    "f1_evaluation = MulticlassClassificationEvaluator(metricName = 'f1')\n",
    "param_grid = ParamGridBuilder().build()\n",
    "\n",
    "cross_val_rf = CrossValidator(estimator = rf_clf, estimatorParamMaps = param_grid, evaluator = f1_evaluation, numFolds = 2)"
   ]
  },
  {
   "cell_type": "code",
   "execution_count": 43,
   "metadata": {},
   "outputs": [
    {
     "data": {
      "text/plain": [
       "[0.7390010923607969]"
      ]
     },
     "execution_count": 43,
     "metadata": {},
     "output_type": "execute_result"
    }
   ],
   "source": [
    "### Model developemnt on train(70%) dataset\n",
    "cv_model_rf = cross_val_rf.fit(train)\n",
    "cv_model_rf.avgMetrics"
   ]
  },
  {
   "cell_type": "code",
   "execution_count": 44,
   "metadata": {},
   "outputs": [],
   "source": [
    "### Fitting the model developed on validation(30%) dataset\n",
    "res_rf = cv_model_rf.transform(val)"
   ]
  },
  {
   "cell_type": "code",
   "execution_count": 45,
   "metadata": {},
   "outputs": [
    {
     "name": "stdout",
     "output_type": "stream",
     "text": [
      "The model evaluation metrics for Random Forest Classifier are as follows :\n",
      "The F-1 Score is 0.8181818181818182\n",
      "The accuracy is 0.796969696969697\n"
     ]
    }
   ],
   "source": [
    "# Check the Random Forest model resuts on validation dataset\n",
    "evaluator = MulticlassClassificationEvaluator(predictionCol = \"prediction\")\n",
    "print(\"The model evaluation metrics for Random Forest Classifier are as follows :\")\n",
    "print(\"The F-1 Score is {}\".format(evaluator.evaluate(res_rf, {evaluator.metricName : \"accuracy\"})))\n",
    "print(\"The accuracy is {}\".format(evaluator.evaluate(res_rf, {evaluator.metricName : \"f1\"})))"
   ]
  },
  {
   "cell_type": "code",
   "execution_count": 46,
   "metadata": {},
   "outputs": [],
   "source": [
    "# Model 2 : Gradient Boosted Trees (GBM)\n",
    "gbt_clf = GBTClassifier(maxIter = 10, maxDepth = 10, seed = 42)\n",
    "\n",
    "f1_evaluation = MulticlassClassificationEvaluator(metricName = 'f1')\n",
    "\n",
    "param_grid = ParamGridBuilder().build()\n",
    "\n",
    "cross_val_gbt = CrossValidator(estimator = gbt_clf, estimatorParamMaps = param_grid, evaluator = f1_evaluation, numFolds = 2)"
   ]
  },
  {
   "cell_type": "code",
   "execution_count": 47,
   "metadata": {},
   "outputs": [
    {
     "data": {
      "text/plain": [
       "[0.6723570031473705]"
      ]
     },
     "execution_count": 47,
     "metadata": {},
     "output_type": "execute_result"
    }
   ],
   "source": [
    "### Model developemnt on train(70%) dataset\n",
    "cv_model_gbt = cross_val_gbt.fit(train)\n",
    "cv_model_gbt.avgMetrics"
   ]
  },
  {
   "cell_type": "code",
   "execution_count": 48,
   "metadata": {},
   "outputs": [],
   "source": [
    "### Fitting the model developed on validation(30%) dataset\n",
    "res_gbt = cv_model_gbt.transform(val)"
   ]
  },
  {
   "cell_type": "code",
   "execution_count": 49,
   "metadata": {},
   "outputs": [
    {
     "name": "stdout",
     "output_type": "stream",
     "text": [
      "The metrics for Gradient Boosted Trees Classifier are as follows: \n",
      "The F-1 Score is 0.7090909090909091\n",
      "The accuracy is 0.7090909090909091\n"
     ]
    }
   ],
   "source": [
    "# Evaluating for Gradient Boosted Trees(GBM) model on validation dataset\n",
    "evaluator = MulticlassClassificationEvaluator(predictionCol = \"prediction\")\n",
    "print(\"The metrics for Gradient Boosted Trees Classifier are as follows: \")\n",
    "print(\"The F-1 Score is {}\".format(evaluator.evaluate(res_gbt, {evaluator.metricName : \"accuracy\"})))\n",
    "print(\"The accuracy is {}\".format(evaluator.evaluate(res_gbt, {evaluator.metricName : \"f1\"})))"
   ]
  },
  {
   "cell_type": "code",
   "execution_count": 50,
   "metadata": {},
   "outputs": [],
   "source": [
    "# Model 3 : Logistic Regression\n",
    "from pyspark.ml.classification import LogisticRegression\n",
    "lr_clf = LogisticRegression()\n",
    "f1_evaluation = MulticlassClassificationEvaluator(metricName = 'f1')\n",
    "param_grid = ParamGridBuilder().build()\n",
    "cross_val_lr = CrossValidator(estimator = lr_clf, estimatorParamMaps = param_grid, evaluator = f1_evaluation, numFolds = 2)"
   ]
  },
  {
   "cell_type": "code",
   "execution_count": 51,
   "metadata": {},
   "outputs": [
    {
     "data": {
      "text/plain": [
       "[0.7621974079008966]"
      ]
     },
     "execution_count": 51,
     "metadata": {},
     "output_type": "execute_result"
    }
   ],
   "source": [
    "### Model developemnt on train(70%) dataset\n",
    "cv_model_lr = cross_val_lr.fit(train)\n",
    "cv_model_lr.avgMetrics"
   ]
  },
  {
   "cell_type": "code",
   "execution_count": 52,
   "metadata": {},
   "outputs": [],
   "source": [
    "### Fitting the model developed on validation(30%) dataset\n",
    "res_lr = cv_model_lr.transform(val)"
   ]
  },
  {
   "cell_type": "code",
   "execution_count": 53,
   "metadata": {},
   "outputs": [
    {
     "name": "stdout",
     "output_type": "stream",
     "text": [
      "The metrics for Logistic Regression are as follows: \n",
      "The F-1 Score is 0.7818181818181819\n",
      "The accuracy is 0.7428194993412385\n"
     ]
    }
   ],
   "source": [
    "# Evaluating for Logistic Regression model on validation dataset\n",
    "evaluator = MulticlassClassificationEvaluator(predictionCol = \"prediction\")\n",
    "print(\"The metrics for Logistic Regression are as follows: \")\n",
    "print(\"The F-1 Score is {}\".format(evaluator.evaluate(res_lr, {evaluator.metricName : \"accuracy\"})))\n",
    "print(\"The accuracy is {}\".format(evaluator.evaluate(res_lr, {evaluator.metricName : \"f1\"})))"
   ]
  },
  {
   "cell_type": "markdown",
   "metadata": {},
   "source": [
    "# Comparison of 3 models developed"
   ]
  },
  {
   "cell_type": "raw",
   "metadata": {},
   "source": [
    "We tried 3 Machine Learning algorithms :\n",
    "\n",
    "1)Random Forest : f1 score - 0.836 & accuracy - 0.801\n",
    "\n",
    "2)Gradient Boosted Trees : f1 score - 0.709 & accuracy - 0.709\n",
    "\n",
    "3)Logistic Regression : f1 score - 0.781 & accuracy - 0.743\n",
    "\n",
    "We observe that Random Forest gave the best result with an accuracy of 0.801 and f1 score 0.836 and outperformed GBM and Logistic Regression. Hence we will use this as the final model for hyper-parameter tuning using Gridsearch CV to further improve the model performance\n"
   ]
  },
  {
   "cell_type": "markdown",
   "metadata": {},
   "source": [
    "# Hyper-parameter tuning using Gridsearch CV"
   ]
  },
  {
   "cell_type": "code",
   "execution_count": 54,
   "metadata": {},
   "outputs": [],
   "source": [
    "# Tuning Hyperparameters for the Gradient Boosting Trees model using Grid Search\n",
    "rf_clf = RandomForestClassifier(seed = 42)\n",
    "\n",
    "param_grid_rf = ParamGridBuilder().addGrid(rf_clf.maxDepth, [5,10])\\\n",
    "                                  .addGrid(rf_clf.numTrees,[10,30,50,100]).build()\n",
    "\n",
    "f1_evaluation = MulticlassClassificationEvaluator(metricName = 'f1')\n",
    "\n",
    "cross_val_rf = CrossValidator(estimator = rf_clf, estimatorParamMaps = param_grid_rf, evaluator = f1_evaluation, numFolds = 2)"
   ]
  },
  {
   "cell_type": "code",
   "execution_count": 55,
   "metadata": {},
   "outputs": [
    {
     "data": {
      "text/plain": [
       "[0.8096626708511259,\n",
       " 0.765030722203573,\n",
       " 0.7716722196329956,\n",
       " 0.7413612242047611,\n",
       " 0.7763041814128785,\n",
       " 0.749117893351152,\n",
       " 0.7476680923929285,\n",
       " 0.7353497894874578]"
      ]
     },
     "execution_count": 55,
     "metadata": {},
     "output_type": "execute_result"
    }
   ],
   "source": [
    "cv_model_rf = cross_val_rf.fit(train)\n",
    "cv_model_rf.avgMetrics"
   ]
  },
  {
   "cell_type": "code",
   "execution_count": 56,
   "metadata": {},
   "outputs": [],
   "source": [
    "# Choosing the parameters with best metrics\n",
    "rf_final = RandomForestClassifier(seed = 42, maxDepth = 10, numTrees = 50)\n",
    "rf_final_model = rf_final.fit(train)\n",
    "res_final = rf_final_model.transform(val)"
   ]
  },
  {
   "cell_type": "code",
   "execution_count": 57,
   "metadata": {},
   "outputs": [
    {
     "name": "stdout",
     "output_type": "stream",
     "text": [
      "The final metrics for Random Forest Classifier are as follows: \n",
      "The F-1 Score is 0.8363636363636363\n",
      "The accuracy is 0.8125138019874864\n"
     ]
    }
   ],
   "source": [
    "# Getting final evaluation metrics for Random Forest Classifier\n",
    "evaluator = MulticlassClassificationEvaluator(predictionCol = \"prediction\")\n",
    "print(\"The final metrics for Random Forest Classifier are as follows: \")\n",
    "print(\"The F-1 Score is {}\".format(evaluator.evaluate(res_final, {evaluator.metricName : \"accuracy\"})))\n",
    "print(\"The accuracy is {}\".format(evaluator.evaluate(res_final, {evaluator.metricName : \"f1\"})))"
   ]
  },
  {
   "cell_type": "markdown",
   "metadata": {},
   "source": [
    "# Conclusion and Remarks :"
   ]
  },
  {
   "cell_type": "raw",
   "metadata": {},
   "source": [
    "We successfully implemented an end to end machine learning project to predict customer churn. We did all the necessary preprocessing which includes checking for null and duplicate values as well as converting time stamp and registration time to a more cleaner format. We had a total of nine features and the target churn label. \n",
    "\n",
    "We trained three different kinds of classification models on our data which includes RandomForest, Gradient Boosted Trees and Logistic Rgeression. We compared the performance of all three models and Random Forest outperformed the rest two algorthms and hence we chose it as our final model by improving its accuracy using Gridsearch CV hyper-parameter tuning\n"
   ]
  },
  {
   "cell_type": "markdown",
   "metadata": {},
   "source": [
    "# Note:\n",
    "There are some problems of reproducibility with the results, I tried to be careful setting every random seed but the results change with each execution, is it possible that the reason for that is the distribuded behaviour of Apache Spark?"
   ]
  },
  {
   "cell_type": "markdown",
   "metadata": {},
   "source": [
    "# Recommendations to Improve\n",
    "\n",
    "I believe the models can do a lot better with more data along with some feature engineering coupled with domain expertise could lead to high performing and reliable models. Feature engineering is a very important task wherein we create features that help in boosting the predictive power of the data and enhance model performance. It is also possible to improve model by tuning more parameters, however it is a time consuming task.\n",
    "\n",
    "We also need to make sure the data we are working on is accurate as inaccurate data can give wrong predictions.\n"
   ]
  },
  {
   "cell_type": "markdown",
   "metadata": {},
   "source": [
    "# To avoid churn in future, the following instrctioned need to be followed:\n",
    "\n",
    "Once we identified who will be going to churn with Prediction model we can then have to take some action to stopping them to getting churned by\n",
    "\n",
    "Running some promotional offers for attracting this targeted users. And finding out what is the root cause of those users not liking the Music app and improving those root cases. Ex: like UI changes, Price for the subscription etc...\n"
   ]
  },
  {
   "cell_type": "markdown",
   "metadata": {},
   "source": [
    "# Reflection and Thoughts\n",
    "\n",
    "Through this project, I got to work on Spark which is widely used in Data Science industry for big data applications. I implemented end-to-end Data science framework to predict customer churn.\n",
    "\n",
    "Customer churn is a very important problem for all companies and they need to be doing whatever is needed to retain their customers. It was a great experience working with different modules under PySpark and understanding it's overall architecture. The biggest challenge working on this project was to identify features that closely represented how likely whether a customer will churn or not out of all the available features. Having the right number and type of features will largely determine the performance of the model being trained. Lastly i enjoyed training different classifiers, comparing and finetuning to get the best result\n"
   ]
  },
  {
   "cell_type": "markdown",
   "metadata": {},
   "source": [
    "# Final Steps\n",
    "Clean up your code, adding comments and renaming variables to make the code easier to read and maintain. Refer to the Spark Project Overview page and Data Scientist Capstone Project Rubric to make sure you are including all components of the capstone project and meet all expectations. Remember, this includes thorough documentation in a README file in a Github repository, as well as a web app or blog post."
   ]
  },
  {
   "cell_type": "code",
   "execution_count": null,
   "metadata": {},
   "outputs": [],
   "source": []
  }
 ],
 "metadata": {
  "kernelspec": {
   "display_name": "Python 3",
   "language": "python",
   "name": "python3"
  },
  "language_info": {
   "codemirror_mode": {
    "name": "ipython",
    "version": 3
   },
   "file_extension": ".py",
   "mimetype": "text/x-python",
   "name": "python",
   "nbconvert_exporter": "python",
   "pygments_lexer": "ipython3",
   "version": "3.6.3"
  }
 },
 "nbformat": 4,
 "nbformat_minor": 2
}
